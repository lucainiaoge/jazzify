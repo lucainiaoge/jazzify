{
 "cells": [
  {
   "cell_type": "code",
   "execution_count": 1,
   "id": "85b52ef8-ef5e-4364-8d30-17413266e786",
   "metadata": {},
   "outputs": [],
   "source": [
    "from rules.pitch_names import *\n",
    "from rules.chord2symbol import *\n",
    "from rules.chord_symbols import *\n",
    "from rules.intervals import *\n",
    "from rules.find_key import *\n",
    "from rules.extend_chords import *"
   ]
  },
  {
   "cell_type": "code",
   "execution_count": 2,
   "id": "043c99c8-c701-4c8a-8158-4d4558bdcdd3",
   "metadata": {},
   "outputs": [
    {
     "name": "stdout",
     "output_type": "stream",
     "text": [
      "[48, 48, 53, 55, 48] ['major', 'major', 'major', 'major', 'major'] [None, 52, None, None, None]\n",
      "[[(0, 'UNK')], [(3, 5), (2, 0), (8, 10), (8, -2)], [(4, 0), (6, 5)], [(3, 0), (2, 7), (8, 5), (8, -7)], [(0, 'UNK')]]\n",
      "[[(0, 'UNK')], [(2, 0)], [(4, 0)], [(10, 0)], [(0, 'UNK')]]\n",
      "[[(0, 0)], [(2, 0)], [(4, 0)], [(10, 0)], [(0, 'UNK')]]\n",
      "[[(0, 0)], [(2, 0)], [(4, 0)], [(10, 0)], [(0, 0)]]\n"
     ]
    }
   ],
   "source": [
    "chord_progression = [\n",
    "    [\"C\",\"E\",\"G\",\"C\"],\n",
    "    [\"E\",\"G\",\"C\"],\n",
    "    [\"F\",\"A\",\"C\"],\n",
    "    [\"G\",\"B\",\"D\"],\n",
    "    [\"C\",\"E\",\"G\",\"C\"]\n",
    "]\n",
    "chord_progression = [\n",
    "    list_pitch_name_to_num(chord, default_bias = 48, ordered = True) for chord in chord_progression\n",
    "]\n",
    "\n",
    "root_list, symb_list, bass_list = get_root_symb_bass_from_progression(chord_progression)\n",
    "print(root_list, symb_list, bass_list)\n",
    "function_key_tuples_list = get_binary_progression_key_guesses(root_list, symb_list)\n",
    "print(function_key_tuples_list)\n",
    "function_key_tuples_list = rectify_key_list_with_ternery_transitions(function_key_tuples_list, root_list, symb_list)\n",
    "print(function_key_tuples_list)\n",
    "function_key_tuples_list = rectify_key_list_with_repeatition_rewrite(function_key_tuples_list)\n",
    "print(function_key_tuples_list)\n",
    "function_key_tuples_list =  align_chord_with_detected_keys(function_key_tuples_list, root_list, symb_list)\n",
    "print(function_key_tuples_list)"
   ]
  },
  {
   "cell_type": "code",
   "execution_count": 3,
   "id": "869dd00d-91b8-427e-9923-134fd67b323f",
   "metadata": {},
   "outputs": [
    {
     "name": "stdout",
     "output_type": "stream",
     "text": [
      "[48, 48, 48, 48, 53, 53, 55, 55, 48, 48] ['major', 'major', 'major', 'major', 'major', 'major', 'major', 'major', 'major', 'major'] [None, None, 52, 52, None, None, None, None, None, None]\n",
      "[[(0, 'UNK')], [(0, 'UNK')], [(0, 'UNK')], [(3, 5), (2, 0), (8, 10), (8, -2)], [(0, 'UNK')], [(4, 0), (6, 5)], [(0, 'UNK')], [(3, 0), (2, 7), (8, 5), (8, -7)], [(0, 'UNK')], [(0, 'UNK')]]\n",
      "[[(0, 'UNK')], [(0, 'UNK')], [(0, 'UNK')], [(2, 0)], [(0, 'UNK')], [(4, 0)], [(0, 'UNK')], [(3, 0)], [(0, 'UNK')], [(0, 'UNK')]]\n",
      "[[(0, 'UNK')], [(0, 'UNK')], [(0, 'UNK')], [(2, 0)], [(10, 0)], [(10, 0)], [(10, 0)], [(10, 0)], [(10, 0)], [(0, 'UNK')]]\n",
      "[[(0, 0)], [(0, 0)], [(0, 0)], [(2, 0)], [(10, 0)], [(10, 0)], [(10, 0)], [(10, 0)], [(10, 0)], [(0, 'UNK')]]\n",
      "[[(0, 0)], [(0, 0)], [(0, 0)], [(2, 0)], [(10, 0)], [(10, 0)], [(10, 0)], [(10, 0)], [(10, 0)], [(0, 0)]]\n",
      "[(0, 0), (0, 0), (0, 0), (2, 0), (10, 0), (10, 0), (10, 0), (10, 0), (10, 0), (0, 0)]\n"
     ]
    },
    {
     "data": {
      "text/plain": [
       "[('tonic', 'C-Major'),\n",
       " ('tonic', 'C-Major'),\n",
       " ('tonic', 'C-Major'),\n",
       " ('tonic', 'C-Major'),\n",
       " ('subdominant', 'C-Major'),\n",
       " ('subdominant', 'C-Major'),\n",
       " ('dominant', 'C-Major'),\n",
       " ('dominant', 'C-Major'),\n",
       " ('tonic', 'C-Major'),\n",
       " ('tonic', 'C-Major')]"
      ]
     },
     "execution_count": 3,
     "metadata": {},
     "output_type": "execute_result"
    }
   ],
   "source": [
    "chord_progression = [\n",
    "    [\"C\",\"E\",\"G\",\"C\"],\n",
    "    [\"C\",\"E\",\"G\",\"C\"],\n",
    "    [\"E\",\"G\",\"C\"],\n",
    "    [\"E\",\"G\",\"C\"],\n",
    "    [\"F\",\"A\",\"C\"],\n",
    "    [\"F\",\"A\",\"C\"],\n",
    "    [\"G\",\"B\",\"D\"],\n",
    "    [\"G\",\"B\",\"D\"],\n",
    "    [\"C\",\"E\",\"G\",\"C\"],\n",
    "    [\"C\",\"E\",\"G\",\"C\"]\n",
    "]\n",
    "chord_progression = [\n",
    "    list_pitch_name_to_num(chord, default_bias = 48, ordered = True) for chord in chord_progression\n",
    "]\n",
    "\n",
    "root_list, symb_list, bass_list = get_root_symb_bass_from_progression(chord_progression)\n",
    "print(root_list, symb_list, bass_list)\n",
    "function_key_tuples_list = get_binary_progression_key_guesses(root_list, symb_list)\n",
    "print(function_key_tuples_list)\n",
    "function_key_tuples_list = rectify_key_list_with_quaternery_transitions(function_key_tuples_list)\n",
    "print(function_key_tuples_list)\n",
    "function_key_tuples_list = rectify_key_list_with_ternery_transitions(function_key_tuples_list, root_list, symb_list)\n",
    "print(function_key_tuples_list)\n",
    "function_key_tuples_list = rectify_key_list_with_repeatition_rewrite(function_key_tuples_list)\n",
    "print(function_key_tuples_list)\n",
    "function_key_tuples_list =  align_chord_with_detected_keys(function_key_tuples_list, root_list, symb_list)\n",
    "print(function_key_tuples_list)\n",
    "\n",
    "function_key_tuples = find_key_given_chord_track(chord_progression)\n",
    "print(function_key_tuples)\n",
    "function_key_tuples_to_string_tuples(function_key_tuples, root_list, symb_list)"
   ]
  },
  {
   "cell_type": "code",
   "execution_count": 4,
   "id": "eb7eb2d5-d711-4cfa-aa40-1c9514606a97",
   "metadata": {},
   "outputs": [
    {
     "name": "stdout",
     "output_type": "stream",
     "text": [
      "[48, 50, 53, 55, 55, 48, 53] ['major', 'major', 'major', 'major', 'minor', 'dominant-seventh', 'major'] [None, None, None, None, None, None, None]\n",
      "[[(4, 7), (6, 0)], [(9, 0)], [(4, 0), (6, 5)], [], [(4, 5)], [(3, 5)], [(0, 'UNK')]]\n",
      "[[(4, 7), (6, 0)], [(9, 0)], [(10, 0)], [(10, 0)], [(4, 5)], [(10, 5)], [(0, 'UNK')]]\n",
      "[[(4, 7), (6, 0)], [(9, 0)], [(10, 0)], [(10, 0)], [(4, 5)], [(10, 5)], [(0, 'UNK')]]\n",
      "[[(6, 0)], [(9, 0)], [(10, 0)], [(10, 0)], [(4, 5)], [(10, 5)], [(0, 5)]]\n",
      "[(6, 0), (10, 0), (10, 0), (10, 0), (4, 5), (10, 5), (0, 5)]\n"
     ]
    },
    {
     "data": {
      "text/plain": [
       "[('tonic', 'C-Major'),\n",
       " ('double-dominant', 'C-Major'),\n",
       " ('subdominant', 'C-Major'),\n",
       " ('dominant', 'C-Major'),\n",
       " ('subdominant', 'F-Major'),\n",
       " ('dominant', 'F-Major'),\n",
       " ('tonic', 'F-Major')]"
      ]
     },
     "execution_count": 4,
     "metadata": {},
     "output_type": "execute_result"
    }
   ],
   "source": [
    "chord_progression = [\n",
    "    [\"C\",\"E\",\"G\",\"C\"],\n",
    "    [\"D\",\"F#\",\"A\"],\n",
    "    [\"F\",\"A\",\"C\"],\n",
    "    [\"G\",\"B\",\"D\"],\n",
    "    [\"G\",\"Bb\",\"D\"],\n",
    "    [\"C\",\"E\",\"G\",\"Bb\"],\n",
    "    [\"F\",\"A\",\"C\"]\n",
    "]\n",
    "chord_progression = [\n",
    "    list_pitch_name_to_num(chord, default_bias = 48, ordered = True) for chord in chord_progression\n",
    "]\n",
    "\n",
    "root_list, symb_list, bass_list = get_root_symb_bass_from_progression(chord_progression)\n",
    "print(root_list, symb_list, bass_list)\n",
    "function_key_tuples_list = get_binary_progression_key_guesses(root_list, symb_list)\n",
    "print(function_key_tuples_list)\n",
    "function_key_tuples_list = rectify_key_list_with_ternery_transitions(function_key_tuples_list, root_list, symb_list)\n",
    "print(function_key_tuples_list)\n",
    "function_key_tuples_list = rectify_key_list_with_repeatition_rewrite(function_key_tuples_list)\n",
    "print(function_key_tuples_list)\n",
    "function_key_tuples_list =  align_chord_with_detected_keys(function_key_tuples_list, root_list, symb_list)\n",
    "print(function_key_tuples_list)\n",
    "\n",
    "function_key_tuples = find_key_given_chord_track(chord_progression)\n",
    "print(function_key_tuples)\n",
    "function_key_tuples_to_string_tuples(function_key_tuples, root_list, symb_list)"
   ]
  },
  {
   "cell_type": "code",
   "execution_count": 5,
   "id": "d45560ae-77b2-4cae-8719-2edd958a85b3",
   "metadata": {},
   "outputs": [
    {
     "name": "stdout",
     "output_type": "stream",
     "text": [
      "[48, 57, 50, 55, 48] ['major', 'minor', 'major', 'major', 'major'] [None, None, None, None, None]\n",
      "[[(2, 0), (0, -8)], [(4, 7), (7, 0)], [(3, 7), (2, 2), (8, 0), (8, -12)], [(3, 0), (2, 7), (8, 5), (8, -7)], [(0, 'UNK')]]\n",
      "[[(2, 0)], [(7, 0)], [(8, 0)], [(3, 0), (2, 7), (8, 5), (8, -7)], [(0, 'UNK')]]\n",
      "[[(2, 0)], [(10, 0)], [(10, 0)], [(10, 0)], [(0, 'UNK')]]\n",
      "[[(2, 0)], [(10, 0)], [(10, 0)], [(10, 0)], [(0, 'UNK')]]\n",
      "[[(2, 0)], [(10, 0)], [(10, 0)], [(10, 0)], [(0, 0)]]\n",
      "[(2, 0), (10, 0), (10, 0), (10, 0), (0, 0)]\n"
     ]
    },
    {
     "data": {
      "text/plain": [
       "[('tonic', 'C-Major'),\n",
       " ('subdominant', 'C-Major'),\n",
       " ('double-dominant', 'C-Major'),\n",
       " ('dominant', 'C-Major'),\n",
       " ('tonic', 'C-Major')]"
      ]
     },
     "execution_count": 5,
     "metadata": {},
     "output_type": "execute_result"
    }
   ],
   "source": [
    "chord_progression = [\n",
    "    [\"C\",\"E\",\"G\",\"C\"],\n",
    "    [\"A\",\"C\",\"E\"],\n",
    "    [\"D\",\"F#\",\"A\"],\n",
    "    [\"G\",\"B\",\"D\"],\n",
    "    [\"C\",\"E\",\"G\",\"C\"]\n",
    "]\n",
    "chord_progression = [\n",
    "    list_pitch_name_to_num(chord, default_bias = 48, ordered = True) for chord in chord_progression\n",
    "]\n",
    "root_list, symb_list, bass_list = get_root_symb_bass_from_progression(chord_progression)\n",
    "print(root_list, symb_list, bass_list)\n",
    "function_key_tuples_list = get_binary_progression_key_guesses(root_list, symb_list)\n",
    "print(function_key_tuples_list)\n",
    "function_key_tuples_list = rectify_key_list_with_quaternery_transitions(function_key_tuples_list)\n",
    "print(function_key_tuples_list)\n",
    "function_key_tuples_list = rectify_key_list_with_ternery_transitions(function_key_tuples_list, root_list, symb_list)\n",
    "print(function_key_tuples_list)\n",
    "function_key_tuples_list = rectify_key_list_with_repeatition_rewrite(function_key_tuples_list)\n",
    "print(function_key_tuples_list)\n",
    "function_key_tuples_list =  align_chord_with_detected_keys(function_key_tuples_list, root_list, symb_list)\n",
    "print(function_key_tuples_list)\n",
    "\n",
    "function_key_tuples = find_key_given_chord_track(chord_progression)\n",
    "print(function_key_tuples)\n",
    "function_key_tuples_to_string_tuples(function_key_tuples, root_list, symb_list)"
   ]
  },
  {
   "cell_type": "code",
   "execution_count": 6,
   "id": "f527e3ee-990a-41db-a238-40223fc8c607",
   "metadata": {},
   "outputs": [
    {
     "name": "stdout",
     "output_type": "stream",
     "text": [
      "[48, 57, 50, 55, 48] ['major', 'major', 'major', 'major', 'major'] [None, None, None, None, None]\n",
      "[[], [(3, 2), (2, 9), (8, 7), (8, -5)], [(3, 7), (2, 2), (8, 0), (8, -12)], [(3, 0), (2, 7), (8, 5), (8, -7)], [(0, 'UNK')]]\n",
      "[[], [(3, 2), (2, 9), (8, 7), (8, -5)], [(3, 7), (2, 2), (8, 0), (8, -12)], [(3, 0), (2, 7), (8, 5), (8, -7)], [(0, 'UNK')]]\n",
      "[[], [(8, 7)], [(3, 7)], [(10, 7)], [(0, 'UNK')]]\n",
      "[[], [(8, 7)], [(3, 7)], [(10, 7)], [(0, 'UNK')]]\n",
      "[[(7, 7)], [(8, 7)], [(3, 7)], [(10, 7)], [(0, 7)]]\n"
     ]
    }
   ],
   "source": [
    "chord_progression = [\n",
    "    [\"C\",\"E\",\"G\",\"C\"],\n",
    "    [\"A\",\"C#\",\"E\"],\n",
    "    [\"D\",\"F#\",\"A\"],\n",
    "    [\"G\",\"B\",\"D\"],\n",
    "    [\"C\",\"E\",\"G\",\"C\"]\n",
    "]\n",
    "chord_progression = [\n",
    "    list_pitch_name_to_num(chord, default_bias = 48, ordered = True) for chord in chord_progression\n",
    "]\n",
    "root_list, symb_list, bass_list = get_root_symb_bass_from_progression(chord_progression)\n",
    "print(root_list, symb_list, bass_list)\n",
    "function_key_tuples_list = get_binary_progression_key_guesses(root_list, symb_list)\n",
    "print(function_key_tuples_list)\n",
    "function_key_tuples_list = rectify_key_list_with_quaternery_transitions(function_key_tuples_list)\n",
    "print(function_key_tuples_list)\n",
    "function_key_tuples_list = rectify_key_list_with_ternery_transitions(function_key_tuples_list, root_list, symb_list)\n",
    "print(function_key_tuples_list)\n",
    "function_key_tuples_list = rectify_key_list_with_repeatition_rewrite(function_key_tuples_list)\n",
    "print(function_key_tuples_list)\n",
    "function_key_tuples_list =  align_chord_with_detected_keys(function_key_tuples_list, root_list, symb_list)\n",
    "print(function_key_tuples_list)"
   ]
  },
  {
   "cell_type": "code",
   "execution_count": 7,
   "id": "acf3c208-2099-4636-90ce-5dd4180ad9be",
   "metadata": {},
   "outputs": [
    {
     "name": "stdout",
     "output_type": "stream",
     "text": [
      "[(7, 7), (8, 7), (3, 7), (10, 7), (0, 7)]\n"
     ]
    },
    {
     "data": {
      "text/plain": [
       "[('subdominant', 'G-Major'),\n",
       " ('double-dominant', 'G-Major'),\n",
       " ('dominant', 'G-Major'),\n",
       " ('tonic', 'G-Major'),\n",
       " ('subdominant', 'G-Major')]"
      ]
     },
     "execution_count": 7,
     "metadata": {},
     "output_type": "execute_result"
    }
   ],
   "source": [
    "function_key_tuples = find_key_given_chord_track(chord_progression)\n",
    "print(function_key_tuples)\n",
    "function_key_tuples_to_string_tuples(function_key_tuples, root_list, symb_list)"
   ]
  },
  {
   "cell_type": "code",
   "execution_count": 8,
   "id": "da248b30-a51e-4408-a2e8-5f360de4e802",
   "metadata": {},
   "outputs": [
    {
     "name": "stdout",
     "output_type": "stream",
     "text": [
      "[50, 49, 48] ['minor-seventh', 'dominant-seventh', 'major-seventh'] [None, None, None]\n",
      "[[], [(3, 0)], [(0, 'UNK')]]\n",
      "[[], [(3, 0)], [(0, 'UNK')]]\n",
      "[[], [(3, 0)], [(0, 'UNK')]]\n",
      "[[(4, 0)], [(3, 0)], [(0, 0)]]\n"
     ]
    }
   ],
   "source": [
    "chord_progression = [\n",
    "    [\"D\",\"F\",\"A\",\"C\"],\n",
    "    [\"Db\",\"F\",\"Ab\",\"B\"],\n",
    "    [\"C\",\"E\",\"G\",\"B\"]\n",
    "]\n",
    "chord_progression = [\n",
    "    list_pitch_name_to_num(chord, default_bias = 48, ordered = True) for chord in chord_progression\n",
    "]\n",
    "root_list, symb_list, bass_list = get_root_symb_bass_from_progression(chord_progression)\n",
    "print(root_list, symb_list, bass_list)\n",
    "function_key_tuples_list = get_binary_progression_key_guesses(root_list, symb_list)\n",
    "print(function_key_tuples_list)\n",
    "function_key_tuples_list = rectify_key_list_with_ternery_transitions(function_key_tuples_list, root_list, symb_list)\n",
    "print(function_key_tuples_list)\n",
    "function_key_tuples_list = rectify_key_list_with_repeatition_rewrite(function_key_tuples_list)\n",
    "print(function_key_tuples_list)\n",
    "function_key_tuples_list =  align_chord_with_detected_keys(function_key_tuples_list, root_list, symb_list)\n",
    "print(function_key_tuples_list)"
   ]
  },
  {
   "cell_type": "code",
   "execution_count": 9,
   "id": "4101ade0-34cc-466b-9534-8efe1657b4be",
   "metadata": {},
   "outputs": [
    {
     "name": "stdout",
     "output_type": "stream",
     "text": [
      "[(4, 0), (3, 0), (0, 0)]\n"
     ]
    },
    {
     "data": {
      "text/plain": [
       "[('subdominant', 'C-Major'), ('dominant', 'C-Major'), ('tonic', 'C-Major')]"
      ]
     },
     "execution_count": 9,
     "metadata": {},
     "output_type": "execute_result"
    }
   ],
   "source": [
    "function_key_tuples = find_key_given_chord_track(chord_progression)\n",
    "print(function_key_tuples)\n",
    "function_key_tuples_to_string_tuples(function_key_tuples, root_list, symb_list)"
   ]
  },
  {
   "cell_type": "code",
   "execution_count": 10,
   "id": "d8c726b2-afec-469f-8dd0-4b543f4f533c",
   "metadata": {},
   "outputs": [
    {
     "name": "stdout",
     "output_type": "stream",
     "text": [
      "[50, 55, 48, 53, 59, 52, 57, 57] ['minor-seventh', 'dominant-seventh', 'major-seventh', 'major-seventh', 'half-diminished-seventh', 'dominant-seventh-#5', 'minor-major-seventh', 'minor-sixth'] [None, None, None, None, None, None, None, None]\n",
      "[[(4, 0)], [(3, 0)], [(2, 0)], [], [(4, -3)], [(3, -3)], [], [(0, 'UNK')]]\n",
      "[[(4, 0)], [(10, 0)], [(10, 0)], [(10, 0)], [(10, 0)], [(3, -3)], [(10, -3)], [(0, 'UNK')]]\n",
      "[[(4, 0)], [(10, 0)], [(10, 0)], [(10, 0)], [(10, 0)], [(3, -3)], [(10, -3)], [(0, 'UNK')]]\n",
      "[[(4, 0)], [(10, 0)], [(10, 0)], [(10, 0)], [(10, 0)], [(3, -3)], [(10, -3)], [(0, -3)]]\n",
      "[(4, 0), (10, 0), (10, 0), (10, 0), (10, 0), (3, -3), (10, -3), (0, -3)]\n"
     ]
    },
    {
     "data": {
      "text/plain": [
       "[('subdominant', 'C-Major'),\n",
       " ('dominant', 'C-Major'),\n",
       " ('tonic', 'C-Major'),\n",
       " ('subdominant', 'C-Major'),\n",
       " ('dominant', 'C-Major'),\n",
       " ('dominant', 'a-minor'),\n",
       " ('tonic', 'a-minor'),\n",
       " ('tonic', 'a-minor')]"
      ]
     },
     "execution_count": 10,
     "metadata": {},
     "output_type": "execute_result"
    }
   ],
   "source": [
    "chord_progression = [\n",
    "    [\"D\",\"F\",\"A\",\"C\"],\n",
    "    [\"G\",\"B\",\"D\",\"F\"],\n",
    "    [\"C\",\"E\",\"G\",\"B\"],\n",
    "    [\"F\",\"A\",\"C\",\"E\"],\n",
    "    [\"B\",\"D\",\"F\",\"A\"],\n",
    "    [\"E\",\"G#\",\"C\",\"D\"],\n",
    "    [\"A\",\"C\",\"E\",\"G#\"],\n",
    "    [\"A\",\"C\",\"E\",\"F#\"],\n",
    "]\n",
    "chord_progression = [\n",
    "    list_pitch_name_to_num(chord, default_bias = 48, ordered = True) for chord in chord_progression\n",
    "]\n",
    "root_list, symb_list, bass_list = get_root_symb_bass_from_progression(chord_progression)\n",
    "print(root_list, symb_list, bass_list)\n",
    "function_key_tuples_list = get_binary_progression_key_guesses(root_list, symb_list)\n",
    "print(function_key_tuples_list)\n",
    "function_key_tuples_list = rectify_key_list_with_ternery_transitions(function_key_tuples_list, root_list, symb_list)\n",
    "print(function_key_tuples_list)\n",
    "function_key_tuples_list = rectify_key_list_with_repeatition_rewrite(function_key_tuples_list)\n",
    "print(function_key_tuples_list)\n",
    "function_key_tuples_list =  align_chord_with_detected_keys(function_key_tuples_list, root_list, symb_list)\n",
    "print(function_key_tuples_list)\n",
    "function_key_tuples = find_key_given_chord_track(chord_progression)\n",
    "print(function_key_tuples)\n",
    "function_key_tuples_to_string_tuples(function_key_tuples, root_list, symb_list)"
   ]
  },
  {
   "cell_type": "code",
   "execution_count": 11,
   "id": "90e5ceec-3afc-4fa7-8c6f-b939d3d4e195",
   "metadata": {},
   "outputs": [
    {
     "name": "stdout",
     "output_type": "stream",
     "text": [
      "[48, 48, 53, 53, 50, 55, 48, 48, 51, 56, 49, 49, 50, 55, 48, 48] ['minor-seventh', 'minor-seventh', 'minor-seventh', 'minor-seventh', 'half-diminished-seventh', 'dominant-seventh-#5', 'minor-seventh', 'minor-seventh', 'minor-seventh', 'dominant-seventh', 'major-seventh', 'major-seventh', 'half-diminished-seventh', 'dominant-seventh-#5', 'minor-seventh', 'minor-seventh'] [None, None, None, None, None, None, None, None, None, None, None, None, None, None, None, None]\n",
      "[[(0, 'UNK')], [(3, -7), (2, -12), (0, 3)], [(0, 'UNK')], [], [(4, -12)], [(3, -12)], [(0, 'UNK')], [], [(4, 1)], [(3, 1)], [(0, 'UNK')], [], [(4, -12)], [(3, -12)], [(0, 'UNK')], [(0, 'UNK')]]\n",
      "[[(0, 'UNK')], [(3, -7), (2, -12), (0, 3)], [(0, 'UNK')], [], [(4, -12)], [(10, -12)], [(10, -12)], [(10, -12)], [(4, 1)], [(10, 1)], [(10, 1)], [(10, 1)], [(10, -12)], [(10, -12)], [(10, -12)], [(0, 'UNK')]]\n",
      "[[(0, -7), (0, -12), (0, 3)], [(3, -7), (2, -12), (0, 3)], [], [], [(4, -12)], [(10, -12)], [(10, -12)], [(10, -12)], [(4, 1)], [(10, 1)], [(10, 1)], [(10, 1)], [(10, -12)], [(10, -12)], [(10, -12)], [(0, 'UNK')]]\n",
      "[[(0, -12)], [(2, -12)], [(0, -12)], [(0, -12)], [(4, -12)], [(10, -12)], [(10, -12)], [(10, -12)], [(4, 1)], [(10, 1)], [(10, 1)], [(10, 1)], [(10, -12)], [(10, -12)], [(10, -12)], [(0, -12)]]\n",
      "[(0, -12), (2, -12), (0, -12), (0, -12), (4, -12), (10, -12), (10, -12), (10, -12), (4, 1), (10, 1), (10, 1), (10, 1), (10, -12), (10, -12), (10, -12), (0, -12)]\n"
     ]
    },
    {
     "data": {
      "text/plain": [
       "[('tonic', 'c-minor'),\n",
       " ('tonic', 'c-minor'),\n",
       " ('subdominant', 'c-minor'),\n",
       " ('subdominant', 'c-minor'),\n",
       " ('subdominant', 'c-minor'),\n",
       " ('dominant', 'c-minor'),\n",
       " ('tonic', 'c-minor'),\n",
       " ('tonic', 'c-minor'),\n",
       " ('subdominant', 'Db-Major'),\n",
       " ('dominant', 'Db-Major'),\n",
       " ('tonic', 'Db-Major'),\n",
       " ('tonic', 'Db-Major'),\n",
       " ('subdominant', 'c-minor'),\n",
       " ('dominant', 'c-minor'),\n",
       " ('tonic', 'c-minor'),\n",
       " ('tonic', 'c-minor')]"
      ]
     },
     "execution_count": 11,
     "metadata": {},
     "output_type": "execute_result"
    }
   ],
   "source": [
    "chord_progression = [\n",
    "    [\"C\",\"Eb\",\"G\",\"Bb\"],\n",
    "    [\"C\",\"Eb\",\"G\",\"Bb\"],\n",
    "    [\"F\",\"Ab\",\"C\",\"Eb\"],\n",
    "    [\"F\",\"Ab\",\"C\",\"Eb\"],\n",
    "    [\"D\",\"F\",\"Ab\",\"C\"],\n",
    "    [\"G\",\"B\",\"D#\",\"F\"],\n",
    "    [\"C\",\"Eb\",\"G\",\"Bb\"],\n",
    "    [\"C\",\"Eb\",\"G\",\"Bb\"],\n",
    "    [\"Eb\",\"Gb\",\"Bb\",\"Db\"],\n",
    "    [\"Ab\",\"C\",\"Eb\",\"Gb\"],\n",
    "    [\"Db\",\"F\",\"Ab\",\"C\"],\n",
    "    [\"Db\",\"F\",\"Ab\",\"C\"],\n",
    "    [\"D\",\"F\",\"Ab\",\"C\"],\n",
    "    [\"G\",\"B\",\"D#\",\"F\"],\n",
    "    [\"C\",\"Eb\",\"G\",\"Bb\"],\n",
    "    [\"C\",\"Eb\",\"G\",\"Bb\"],\n",
    "]\n",
    "chord_progression = [\n",
    "    list_pitch_name_to_num(chord, default_bias = 48, ordered = True) for chord in chord_progression\n",
    "]\n",
    "root_list, symb_list, bass_list = get_root_symb_bass_from_progression(chord_progression)\n",
    "print(root_list, symb_list, bass_list)\n",
    "function_key_tuples_list = get_binary_progression_key_guesses(root_list, symb_list)\n",
    "print(function_key_tuples_list)\n",
    "function_key_tuples_list = rectify_key_list_with_ternery_transitions(function_key_tuples_list, root_list, symb_list)\n",
    "print(function_key_tuples_list)\n",
    "function_key_tuples_list = rectify_key_list_with_repeatition_rewrite(function_key_tuples_list)\n",
    "print(function_key_tuples_list)\n",
    "function_key_tuples_list =  align_chord_with_detected_keys(function_key_tuples_list, root_list, symb_list)\n",
    "print(function_key_tuples_list)\n",
    "\n",
    "function_key_tuples = find_key_given_chord_track(chord_progression)\n",
    "print(function_key_tuples)\n",
    "function_key_tuples_to_string_tuples(function_key_tuples, root_list, symb_list)"
   ]
  },
  {
   "cell_type": "code",
   "execution_count": 12,
   "id": "c8a04dc5-6096-456b-aed2-7a47943c3aa5",
   "metadata": {},
   "outputs": [
    {
     "name": "stdout",
     "output_type": "stream",
     "text": [
      "[48, 48, 53, 53, 50, 55, 48, 48, 51, 56, 49, 49, 50, 55, 48, 48] ['minor', 'minor', 'minor', 'minor', 'diminished', 'major', 'minor', 'minor', 'minor-seventh', 'dominant-seventh', 'major-seventh', 'major-seventh', 'diminished', 'major', 'minor', 'minor'] [None, None, None, None, None, None, None, None, None, None, None, None, None, None, None, None]\n",
      "[[(0, 'UNK')], [(3, -7), (2, -12), (0, 3)], [(0, 'UNK')], [(6, 5), (6, -7)], [(4, -12)], [(3, -12)], [(0, 'UNK')], [], [(4, 1)], [(3, 1)], [(0, 'UNK')], [], [(4, -12)], [(3, -12)], [(0, 'UNK')], [(0, 'UNK')]]\n",
      "[[(0, 'UNK')], [(3, -7), (2, -12), (0, 3)], [(0, 'UNK')], [(6, 5), (6, -7)], [(4, -12)], [(3, -12)], [(0, 'UNK')], [], [(4, 1)], [(3, 1)], [(0, 'UNK')], [], [(4, -12)], [(3, -12)], [(0, 'UNK')], [(0, 'UNK')]]\n",
      "[[(0, 'UNK')], [(3, -7), (2, -12), (0, 3)], [(0, 'UNK')], [(6, 5), (6, -7)], [(4, -12)], [(10, -12)], [(10, -12)], [(10, -12)], [(4, 1)], [(10, 1)], [(10, 1)], [(10, 1)], [(10, -12)], [(10, -12)], [(10, -12)], [(0, 'UNK')]]\n",
      "[[(0, -7), (0, -12), (0, 3)], [(3, -7), (2, -12), (0, 3)], [(0, 5), (0, -7)], [(6, 5), (6, -7)], [(4, -12)], [(10, -12)], [(10, -12)], [(10, -12)], [(4, 1)], [(10, 1)], [(10, 1)], [(10, 1)], [(10, -12)], [(10, -12)], [(10, -12)], [(0, 'UNK')]]\n",
      "[[(0, -12)], [(2, -12)], [(0, -12)], [(0, -12)], [(4, -12)], [(10, -12)], [(10, -12)], [(10, -12)], [(4, 1)], [(10, 1)], [(10, 1)], [(10, 1)], [(10, -12)], [(10, -12)], [(10, -12)], [(0, -12)]]\n",
      "[(0, -12), (2, -12), (0, -12), (0, -12), (4, -12), (10, -12), (10, -12), (10, -12), (4, 1), (10, 1), (10, 1), (10, 1), (10, -12), (10, -12), (10, -12), (0, -12)]\n"
     ]
    },
    {
     "data": {
      "text/plain": [
       "[('tonic', 'c-minor'),\n",
       " ('tonic', 'c-minor'),\n",
       " ('subdominant', 'c-minor'),\n",
       " ('subdominant', 'c-minor'),\n",
       " ('subdominant', 'c-minor'),\n",
       " ('dominant', 'c-minor'),\n",
       " ('tonic', 'c-minor'),\n",
       " ('tonic', 'c-minor'),\n",
       " ('subdominant', 'Db-Major'),\n",
       " ('dominant', 'Db-Major'),\n",
       " ('tonic', 'Db-Major'),\n",
       " ('tonic', 'Db-Major'),\n",
       " ('subdominant', 'c-minor'),\n",
       " ('dominant', 'c-minor'),\n",
       " ('tonic', 'c-minor'),\n",
       " ('tonic', 'c-minor')]"
      ]
     },
     "execution_count": 12,
     "metadata": {},
     "output_type": "execute_result"
    }
   ],
   "source": [
    "chord_progression = [\n",
    "    [\"C\",\"Eb\",\"G\"],\n",
    "    [\"C\",\"Eb\",\"G\"],\n",
    "    [\"F\",\"Ab\",\"C\"],\n",
    "    [\"F\",\"Ab\",\"C\"],\n",
    "    [\"D\",\"F\",\"Ab\"],\n",
    "    [\"G\",\"B\",\"D\"],\n",
    "    [\"C\",\"Eb\",\"G\"],\n",
    "    [\"C\",\"Eb\",\"G\"],\n",
    "    [\"Eb\",\"Gb\",\"Bb\",\"Db\"],\n",
    "    [\"Ab\",\"C\",\"Eb\",\"Gb\"],\n",
    "    [\"Db\",\"F\",\"Ab\",\"C\"],\n",
    "    [\"Db\",\"F\",\"Ab\",\"C\"],\n",
    "    [\"D\",\"F\",\"Ab\"],\n",
    "    [\"G\",\"B\",\"D\"],\n",
    "    [\"C\",\"Eb\",\"G\"],\n",
    "    [\"C\",\"Eb\",\"G\"],\n",
    "]\n",
    "chord_progression = [\n",
    "    list_pitch_name_to_num(chord, default_bias = 48, ordered = True) for chord in chord_progression\n",
    "]\n",
    "root_list, symb_list, bass_list = get_root_symb_bass_from_progression(chord_progression)\n",
    "print(root_list, symb_list, bass_list)\n",
    "function_key_tuples_list = get_binary_progression_key_guesses(root_list, symb_list)\n",
    "print(function_key_tuples_list)\n",
    "function_key_tuples_list = rectify_key_list_with_quaternery_transitions(function_key_tuples_list)\n",
    "print(function_key_tuples_list)\n",
    "function_key_tuples_list = rectify_key_list_with_ternery_transitions(function_key_tuples_list, root_list, symb_list)\n",
    "print(function_key_tuples_list)\n",
    "function_key_tuples_list = rectify_key_list_with_repeatition_rewrite(function_key_tuples_list)\n",
    "print(function_key_tuples_list)\n",
    "function_key_tuples_list =  align_chord_with_detected_keys(function_key_tuples_list, root_list, symb_list)\n",
    "print(function_key_tuples_list)\n",
    "\n",
    "function_key_tuples = find_key_given_chord_track(chord_progression)\n",
    "print(function_key_tuples)\n",
    "function_key_tuples_to_string_tuples(function_key_tuples, root_list, symb_list)"
   ]
  },
  {
   "cell_type": "code",
   "execution_count": 13,
   "id": "23ecd10f-9c9a-4ca3-9275-7542fa05e0ab",
   "metadata": {},
   "outputs": [
    {
     "name": "stdout",
     "output_type": "stream",
     "text": [
      "[57, 50, 55, 48, 48, 53, 59, 52, 57, 57] ['minor-seventh', 'minor-seventh', 'dominant-seventh', 'major-seventh', 'dominant-seventh', 'major-seventh', 'half-diminished-seventh', 'dominant-seventh', 'minor-seventh', 'dominant-seventh-b9'] [None, None, None, None, None, None, None, None, None, None]\n",
      "[(0, 0), (10, 0), (10, 0), (10, 0), (3, 5), (10, 5), (10, 5), (3, -3), (10, -3), (0, -3)]\n"
     ]
    },
    {
     "data": {
      "text/plain": [
       "[('subdominant', 'C-Major'),\n",
       " ('subdominant', 'C-Major'),\n",
       " ('dominant', 'C-Major'),\n",
       " ('tonic', 'C-Major'),\n",
       " ('dominant', 'F-Major'),\n",
       " ('tonic', 'F-Major'),\n",
       " ('double-dominant', 'F-Major'),\n",
       " ('dominant', 'a-minor'),\n",
       " ('tonic', 'a-minor'),\n",
       " ('unknown-function', 'a-minor')]"
      ]
     },
     "execution_count": 13,
     "metadata": {},
     "output_type": "execute_result"
    }
   ],
   "source": [
    "chord_progression = [\n",
    "    [\"A\",\"C\",\"E\",\"G\"],\n",
    "    [\"D\",\"F\",\"A\",\"C\"],\n",
    "    [\"G\",\"B\",\"D\",\"F\"],\n",
    "    [\"C\",\"E\",\"G\",\"B\"],\n",
    "    [\"C\",\"E\",\"G\",\"Bb\"],\n",
    "    [\"F\",\"A\",\"C\",\"E\"],\n",
    "    [\"B\",\"D\",\"F\",\"A\"],\n",
    "    [\"E\",\"G#\",\"B\",\"D\"],\n",
    "    [\"A\",\"C\",\"E\",\"G\"],\n",
    "    [\"A\",\"C#\",\"E\",\"G\",\"Bb\"]\n",
    "]\n",
    "chord_progression = [\n",
    "    list_pitch_name_to_num(chord, default_bias = 48, ordered = True) for chord in chord_progression\n",
    "]\n",
    "root_list, symb_list, bass_list = get_root_symb_bass_from_progression(chord_progression)\n",
    "print(root_list, symb_list, bass_list)\n",
    "function_key_tuples = find_key_given_chord_track(chord_progression)\n",
    "print(function_key_tuples)\n",
    "function_key_tuples_to_string_tuples(function_key_tuples, root_list, symb_list)"
   ]
  },
  {
   "cell_type": "code",
   "execution_count": 14,
   "id": "3729852c-097b-4c12-a4d1-73f971d637e8",
   "metadata": {},
   "outputs": [
    {
     "name": "stdout",
     "output_type": "stream",
     "text": [
      "[53, 58, 53, 58, 53, 58, 53, 54, 59, 48, 59, 52, 57, 50, 50, 48, 53, 58, 57, 50, 55, 54, 53] ['major-seventh', 'minor-sixth', 'major-seventh', 'diminished-seventh', 'major-seventh', 'diminished-seventh', 'major-seventh', 'dominant-seventh', 'major-sixth-ninth', 'major-seventh', 'dominant-ninth', 'dominant-seventh', 'major-seventh', 'major-seventh', 'minor-seventh', 'alt', 'major-seventh', 'minor-sixth', 'minor-seventh', 'minor-seventh', 'minor-seventh', 'dominant-seventh', 'major-seventh'] [None, 53, None, 53, None, 53, None, None, None, None, None, None, None, None, None, None, None, None, None, None, None, None, None]\n",
      "[(2, 5), (5, 5), (1, 5), (3, 5), (10, 5), (10, 5), (10, 5), (10, 5), (10, 'UNK'), (10, 'UNK'), (8, 9), (10, 9), (10, 9), (10, 9), (10, 9), (3, 5), (10, 5), (10, 5), (10, 5), (10, 5), (10, 5), (10, 5), (0, 5)]\n"
     ]
    },
    {
     "data": {
      "text/plain": [
       "[('tonic', 'F-Major'),\n",
       " ('subdominant', 'F-Major'),\n",
       " ('tonic', 'F-Major'),\n",
       " ('dominant', 'F-Major'),\n",
       " ('tonic', 'F-Major'),\n",
       " ('dominant', 'F-Major'),\n",
       " ('tonic', 'F-Major'),\n",
       " ('dominant', 'F-Major'),\n",
       " ('unknown-function', 'unknown'),\n",
       " ('unknown-function', 'unknown'),\n",
       " ('double-dominant', 'A-Major'),\n",
       " ('dominant', 'A-Major'),\n",
       " ('tonic', 'A-Major'),\n",
       " ('subdominant', 'A-Major'),\n",
       " ('subdominant', 'A-Major'),\n",
       " ('dominant', 'F-Major'),\n",
       " ('tonic', 'F-Major'),\n",
       " ('subdominant', 'F-Major'),\n",
       " ('unknown-function', 'F-Major'),\n",
       " ('subdominant', 'F-Major'),\n",
       " ('subdominant', 'F-Major'),\n",
       " ('dominant', 'F-Major'),\n",
       " ('tonic', 'F-Major')]"
      ]
     },
     "execution_count": 14,
     "metadata": {},
     "output_type": "execute_result"
    }
   ],
   "source": [
    "chord_progression = [\n",
    "    [\"F\",\"A\",\"C\",\"E\"],\n",
    "    [\"F\",\"Bb\",\"Db\",\"F\",\"G\"],\n",
    "    [\"F\",\"A\",\"C\",\"E\"],\n",
    "    [\"F\",\"Bb\",\"Db\",\"E\",\"G\"],\n",
    "    [\"F\",\"A\",\"C\",\"E\"],\n",
    "    [\"F\",\"Bb\",\"Db\",\"E\",\"G\"],\n",
    "    [\"F\",\"A\",\"C\",\"E\"],\n",
    "    [\"Gb\",\"Bb\",\"Db\",\"E\"],\n",
    "    [\"B\",\"Eb\",\"Gb\",\"Ab\",\"Db\"],\n",
    "    [\"C\",\"E\",\"G\",\"B\"],\n",
    "    [\"B\",\"Eb\",\"Gb\",\"A\",\"Db\"],\n",
    "    [\"E\",\"G#\",\"B\",\"D\"],\n",
    "    [\"A\",\"C#\",\"E\",\"G#\"],\n",
    "    [\"D\",\"F#\",\"A\",\"C#\"],\n",
    "    [\"D\",\"F\",\"A\",\"C\"],\n",
    "    [\"C\",\"E\",\"G#\",\"Bb\",\"D#\"],\n",
    "    [\"F\",\"A\",\"C\",\"E\"],\n",
    "    [\"Bb\",\"Db\",\"F\",\"G\"],\n",
    "    [\"A\",\"C\",\"E\",\"G\"],\n",
    "    [\"D\",\"F\",\"A\",\"C\"],\n",
    "    [\"G\",\"Bb\",\"D\",\"F\"],\n",
    "    [\"Gb\",\"Bb\",\"Db\",\"E\"],\n",
    "    [\"F\",\"A\",\"C\",\"E\"],\n",
    "]\n",
    "chord_progression = [\n",
    "    list_pitch_name_to_num(chord, default_bias = 48, ordered = True) for chord in chord_progression\n",
    "]\n",
    "root_list, symb_list, bass_list = get_root_symb_bass_from_progression(chord_progression)\n",
    "print(root_list, symb_list, bass_list)\n",
    "function_key_tuples = find_key_given_chord_track(chord_progression)\n",
    "print(function_key_tuples)\n",
    "function_key_tuples_to_string_tuples(function_key_tuples, root_list, symb_list)"
   ]
  },
  {
   "cell_type": "code",
   "execution_count": 15,
   "id": "1116db8c-eefe-4725-bf13-0478f08fadb8",
   "metadata": {},
   "outputs": [
    {
     "name": "stdout",
     "output_type": "stream",
     "text": [
      "[(2, 5), (10, 5), (10, 5), (10, 5), (10, 5), (3, -5), (10, -5), (10, -5), (10, 5), (4, 1), (10, 1), (10, 1), (10, 1), (4, 11), (10, 11), (10, 11), (10, 11), (10, 11), (10, 'UNK'), (4, 0), (10, 0), (10, 11), (10, 11), (10, 11), (10, 11), (10, 0), (0, 5), (4, 5), (10, 5), (10, 5), (10, 0), (10, 5), (0, 5)]\n"
     ]
    },
    {
     "data": {
      "text/plain": [
       "[('tonic', 'F-Major'),\n",
       " ('subdominant', 'F-Major'),\n",
       " ('subdominant', 'F-Major'),\n",
       " ('dominant', 'F-Major'),\n",
       " ('unknown-function', 'F-Major'),\n",
       " ('dominant', 'g-minor'),\n",
       " ('tonic', 'g-minor'),\n",
       " ('subdominant', 'g-minor'),\n",
       " ('tonic', 'F-Major'),\n",
       " ('subdominant', 'Db-Major'),\n",
       " ('dominant', 'Db-Major'),\n",
       " ('tonic', 'Db-Major'),\n",
       " ('tonic', 'Db-Major'),\n",
       " ('subdominant', 'B-Major'),\n",
       " ('dominant', 'B-Major'),\n",
       " ('tonic', 'B-Major'),\n",
       " ('tonic', 'B-Major'),\n",
       " ('subdominant', 'B-Major'),\n",
       " ('unknown-function', 'unknown'),\n",
       " ('subdominant', 'C-Major'),\n",
       " ('dominant', 'C-Major'),\n",
       " ('subdominant', 'B-Major'),\n",
       " ('subdominant', 'B-Major'),\n",
       " ('dominant', 'B-Major'),\n",
       " ('dominant', 'B-Major'),\n",
       " ('subdominant', 'C-Major'),\n",
       " ('subdominant', 'F-Major'),\n",
       " ('subdominant', 'F-Major'),\n",
       " ('dominant', 'F-Major'),\n",
       " ('unknown-function', 'F-Major'),\n",
       " ('double-dominant', 'C-Major'),\n",
       " ('subdominant', 'F-Major'),\n",
       " ('dominant', 'F-Major')]"
      ]
     },
     "execution_count": 15,
     "metadata": {},
     "output_type": "execute_result"
    }
   ],
   "source": [
    "chord_progression = [\n",
    "    [\"F\",\"A\",\"C\",\"E\"],\n",
    "    [\"Bb\",\"D\",\"F\",\"A\"],\n",
    "    [\"G\",\"Bb\",\"D\",\"F\"],\n",
    "    [\"C\",\"E\",\"G\",\"Bb\"],\n",
    "    [\"A\",\"C\",\"E\",\"G\"],\n",
    "    [\"D\",\"F#\",\"A\",\"C\"],\n",
    "    [\"G\",\"Bb\",\"D\",\"F\"],\n",
    "    [\"G\",\"Bb\",\"C\",\"E\"],\n",
    "    [\"F\",\"A\",\"C\",\"E\"],\n",
    "    \n",
    "    [\"Eb\",\"Gb\",\"Bb\",\"Db\"],\n",
    "    [\"Eb\",\"Gb\",\"Ab\",\"C\"],\n",
    "    [\"Db\",\"F\",\"Ab\",\"C\"],\n",
    "    [\"Db\",\"F\",\"Ab\",\"C\"],\n",
    "    \n",
    "    [\"Db\",\"E\",\"Ab\",\"Cb\"],\n",
    "    [\"Db\",\"E\",\"Gb\",\"Bb\"],\n",
    "    [\"Cb\",\"Eb\",\"Gb\",\"Bb\"],\n",
    "    [\"Cb\",\"Eb\",\"Gb\",\"Bb\"],\n",
    "    \n",
    "    [\"C\",\"Eb\",\"G\",\"Bb\"],\n",
    "    [\"F\",\"A\",\"C\",\"Eb\"],\n",
    "    [\"D\",\"F\",\"A\",\"C\"],\n",
    "    [\"G\",\"B\",\"D\",\"F\"],\n",
    "    [\"C\",\"Eb\",\"G\",\"Bb\"],\n",
    "    [\"C\",\"Eb\",\"G\",\"B\"],\n",
    "    [\"C\",\"E\",\"G\",\"Bb\"],\n",
    "    [\"C\",\"E\",\"G\",\"Bb\"],\n",
    "    \n",
    "    [\"F\",\"A\",\"C\",\"E\"],\n",
    "    [\"Bb\",\"D\",\"F\",\"A\"],\n",
    "    [\"G\",\"Bb\",\"D\",\"F\"],\n",
    "    [\"C\",\"E\",\"G\",\"Bb\"],\n",
    "    [\"A\",\"C\",\"E\",\"G\"],\n",
    "    [\"D\",\"F#\",\"A\",\"C\"],\n",
    "    [\"G\",\"Bb\",\"D\",\"F\"],\n",
    "    [\"G\",\"Bb\",\"C\",\"E\"],\n",
    "]\n",
    "chord_progression = [\n",
    "    list_pitch_name_to_num(chord, default_bias = 48, ordered = True) for chord in chord_progression\n",
    "]\n",
    "root_list, symb_list, bass_list = get_root_symb_bass_from_progression(chord_progression)\n",
    "function_key_tuples = find_key_given_chord_track(chord_progression)\n",
    "print(function_key_tuples)\n",
    "function_key_tuples_to_string_tuples(function_key_tuples, root_list, symb_list)"
   ]
  },
  {
   "cell_type": "code",
   "execution_count": 16,
   "id": "8f21909a-b2b1-490a-bf19-b848a57dbeb8",
   "metadata": {},
   "outputs": [
    {
     "name": "stdout",
     "output_type": "stream",
     "text": [
      "[50, 53, 50, 53, 48, 48, 59, 59, 57, 50, 55, 56, 55, 50, 55, 48, 48, 48, 53, 53, 50, 50, 55, 55, 50, 53, 50, 53, 48, 48, 59, 59, 57, 50, 55, 48] ['dominant-ninth', 'minor-sixth-ninth', 'dominant-ninth', 'minor-sixth-ninth', 'major-seventh', 'dominant-seventh', 'dominant-seventh', 'dominant-seventh', 'dominant-seventh', 'dominant-ninth', 'dominant-seventh', 'dominant-seventh', 'dominant-seventh', 'dominant-ninth', 'dominant-seventh', 'major-sixth-ninth', 'dominant-seventh', 'dominant-seventh', 'major-sixth-ninth', 'major-sixth-ninth', 'dominant-seventh', 'dominant-seventh', 'dominant-seventh', 'dominant-seventh', 'dominant-ninth', 'minor-sixth-ninth', 'dominant-ninth', 'minor-sixth-ninth', 'major-seventh', 'dominant-seventh', 'dominant-seventh', 'dominant-seventh', 'dominant-seventh', 'dominant-ninth', 'dominant-seventh', 'major-sixth-ninth'] [None, None, None, None, None, None, None, None, None, None, None, None, None, None, None, None, None, None, None, None, None, None, None, None, None, None, None, None, None, None, None, None, None, None, None, None]\n",
      "(['D', 'F#', 'A', 'C', 'E'], ('double-dominant', 'c-minor'))\n",
      "(['F', 'Ab', 'C', 'D', 'G'], ('subdominant', 'c-minor'))\n",
      "(['D', 'F#', 'A', 'C', 'E'], ('double-dominant', 'c-minor'))\n",
      "(['F', 'Ab', 'C', 'D', 'G'], ('subdominant', 'c-minor'))\n",
      "(['C', 'E', 'G', 'B'], ('subdominant', 'G-Major'))\n",
      "(['C', 'E', 'G', 'Bb'], ('dominant', 'F-Major'))\n",
      "(['B', 'D#', 'F#', 'A'], ('unknown-function', 'unknown'))\n",
      "(['B', 'D#', 'F#', 'A'], ('unknown-function', 'unknown'))\n",
      "(['A', 'C#', 'E', 'G'], ('double-dominant', 'G-Major'))\n",
      "(['D', 'F#', 'A', 'C', 'E'], ('dominant', 'G-Major'))\n",
      "(['G', 'B', 'D', 'F'], ('dominant', 'C-Major'))\n",
      "(['Ab', 'C', 'Eb', 'Gb'], ('dominant', 'G-Major'))\n",
      "(['G', 'B', 'D', 'F'], ('dominant', 'C-Major'))\n",
      "(['D', 'F#', 'A', 'C', 'E'], ('dominant', 'G-Major'))\n",
      "(['G', 'B', 'D', 'F'], ('dominant', 'C-Major'))\n",
      "(['C', 'E', 'G', 'A', 'D'], ('tonic', 'C-Major'))\n",
      "(['C', 'E', 'G', 'Bb'], ('dominant', 'F-Major'))\n",
      "(['C', 'E', 'G', 'Bb'], ('dominant', 'F-Major'))\n",
      "(['F', 'A', 'C', 'D', 'G'], ('tonic', 'F-Major'))\n",
      "(['F', 'A', 'C', 'D', 'G'], ('tonic', 'F-Major'))\n",
      "(['D', 'F#', 'A', 'C'], ('double-dominant', 'C-Major'))\n",
      "(['D', 'F#', 'A', 'C'], ('double-dominant', 'C-Major'))\n",
      "(['G', 'B', 'D', 'F'], ('dominant', 'C-Major'))\n",
      "(['G', 'B', 'D', 'F'], ('dominant', 'C-Major'))\n",
      "(['D', 'F#', 'A', 'C', 'E'], ('double-dominant', 'C-Major'))\n",
      "(['F', 'Ab', 'C', 'D', 'G'], ('subdominant', 'C-Major'))\n",
      "(['D', 'F#', 'A', 'C', 'E'], ('double-dominant', 'C-Major'))\n",
      "(['F', 'Ab', 'C', 'D', 'G'], ('subdominant', 'C-Major'))\n",
      "(['C', 'E', 'G', 'B'], ('tonic', 'C-Major'))\n",
      "(['C', 'E', 'G', 'Bb'], ('dominant', 'F-Major'))\n",
      "(['B', 'D#', 'F#', 'A'], ('unknown-function', 'unknown'))\n",
      "(['B', 'D#', 'F#', 'A'], ('unknown-function', 'unknown'))\n",
      "(['A', 'C#', 'E', 'G'], ('double-dominant', 'G-Major'))\n",
      "(['D', 'F#', 'A', 'C', 'E'], ('dominant', 'G-Major'))\n",
      "(['G', 'B', 'D', 'F'], ('dominant', 'C-Major'))\n",
      "(['C', 'E', 'G', 'A', 'D'], ('tonic', 'C-Major'))\n"
     ]
    }
   ],
   "source": [
    "chord_progression = [\n",
    "    [\"D\",\"F#\",\"A\",\"C\",\"E\"],\n",
    "    [\"F\",\"Ab\",\"C\",\"D\",\"G\"],\n",
    "    [\"D\",\"F#\",\"A\",\"C\",\"E\"],\n",
    "    [\"F\",\"Ab\",\"C\",\"D\",\"G\"],\n",
    "    [\"C\",\"E\",\"G\",\"B\"],\n",
    "    \n",
    "    [\"C\",\"E\",\"G\",\"Bb\"],\n",
    "    [\"B\",\"D#\",\"F#\",\"A\"],\n",
    "    [\"B\",\"D#\",\"F#\",\"A\"],\n",
    "    [\"A\",\"C#\",\"E\",\"G\"],\n",
    "    \n",
    "    [\"D\",\"F#\",\"A\",\"C\",\"E\"],\n",
    "    \n",
    "    [\"G\",\"B\",\"D\",\"F\"],\n",
    "    [\"Ab\",\"C\",\"Eb\",\"Gb\"],\n",
    "    [\"G\",\"B\",\"D\",\"F\"],\n",
    "    \n",
    "    [\"D\",\"F#\",\"A\",\"C\",\"E\"],\n",
    "    \n",
    "    [\"G\",\"B\",\"D\",\"F\"],\n",
    "    [\"C\",\"E\",\"G\",\"A\",\"D\"],\n",
    "    \n",
    "    [\"C\",\"E\",\"G\",\"Bb\"],\n",
    "    [\"C\",\"E\",\"G\",\"Bb\"],\n",
    "    [\"F\",\"A\",\"C\",\"D\",\"G\"],\n",
    "    [\"F\",\"A\",\"C\",\"D\",\"G\"],\n",
    "    [\"D\",\"F#\",\"A\",\"C\"],\n",
    "    [\"D\",\"F#\",\"A\",\"C\"],\n",
    "    [\"G\",\"B\",\"D\",\"F\"],\n",
    "    [\"G\",\"B\",\"D\",\"F\"],\n",
    "    \n",
    "    [\"D\",\"F#\",\"A\",\"C\",\"E\"],\n",
    "    [\"F\",\"Ab\",\"C\",\"D\",\"G\"],\n",
    "    [\"D\",\"F#\",\"A\",\"C\",\"E\"],\n",
    "    [\"F\",\"Ab\",\"C\",\"D\",\"G\"],\n",
    "    [\"C\",\"E\",\"G\",\"B\"],\n",
    "    \n",
    "    [\"C\",\"E\",\"G\",\"Bb\"],\n",
    "    [\"B\",\"D#\",\"F#\",\"A\"],\n",
    "    [\"B\",\"D#\",\"F#\",\"A\"],\n",
    "    [\"A\",\"C#\",\"E\",\"G\"],\n",
    "    \n",
    "    [\"D\",\"F#\",\"A\",\"C\",\"E\"],\n",
    "    \n",
    "    [\"G\",\"B\",\"D\",\"F\"],\n",
    "    [\"C\",\"E\",\"G\",\"A\",\"D\"],\n",
    "]\n",
    "chord_progression_midi = [\n",
    "    list_pitch_name_to_num(chord, default_bias = 48, ordered = True) for chord in chord_progression\n",
    "]\n",
    "\n",
    "root_list, symb_list, bass_list = get_root_symb_bass_from_progression(chord_progression_midi)\n",
    "print(root_list, symb_list, bass_list)\n",
    "\n",
    "function_key_tuples = find_key_given_chord_track(chord_progression_midi)\n",
    "# print(function_key_tuples)\n",
    "func_key_strings = function_key_tuples_to_string_tuples(function_key_tuples, root_list, symb_list)\n",
    "\n",
    "to_print = list(zip(chord_progression,func_key_strings))\n",
    "for element in to_print:\n",
    "    print(element)"
   ]
  },
  {
   "cell_type": "code",
   "execution_count": 17,
   "id": "6ddcd0e5-67c3-4c82-97f5-137c8a8eef5b",
   "metadata": {},
   "outputs": [
    {
     "name": "stdout",
     "output_type": "stream",
     "text": [
      "[53, 55, 52, 57, 50, 55, 48, 48] ['major', 'major', 'minor', 'minor', 'minor', 'major', 'major', 'dominant-seventh'] [None, None, None, None, None, None, None, None]\n",
      "(['F', 'A', 'C'], ('subdominant', 'C-Major'))\n",
      "(['G', 'B', 'D'], ('dominant', 'C-Major'))\n",
      "(['E', 'G', 'B'], ('unknown-function', 'C-Major'))\n",
      "(['A', 'C', 'E'], ('subdominant', 'C-Major'))\n",
      "(['D', 'F', 'A'], ('subdominant', 'C-Major'))\n",
      "(['G', 'B', 'D'], ('dominant', 'C-Major'))\n",
      "(['C', 'E', 'G'], ('tonic', 'C-Major'))\n",
      "(['C', 'E', 'G', 'Bb'], ('unknown-function', 'C-Major'))\n",
      "F major-ninth ['F', 'E', 'G', 'A', 'C']\n",
      "G dominant-13th ['G', 'B', 'E', 'F', 'A']\n",
      "E minor-ninth ['E', 'D', 'Gb', 'G', 'B']\n",
      "A minor-ninth ['A', 'C', 'E', 'G', 'B']\n",
      "D minor-ninth ['D', 'C', 'E', 'F', 'A']\n",
      "G dominant-13th ['G', 'B', 'E', 'F', 'A']\n",
      "C major-sixth-ninth ['C', 'A', 'D', 'E', 'G']\n",
      "C dominant-13th ['C', 'E', 'A', 'Bb', 'D']\n"
     ]
    }
   ],
   "source": [
    "chord_progression = [\n",
    "    [\"F\",\"A\",\"C\"],\n",
    "    [\"G\",\"B\",\"D\"],\n",
    "    [\"E\",\"G\",\"B\"],\n",
    "    [\"A\",\"C\",\"E\"],\n",
    "    [\"D\",\"F\",\"A\"],\n",
    "    [\"G\",\"B\",\"D\"],\n",
    "    [\"C\",\"E\",\"G\"],\n",
    "    [\"C\",\"E\",\"G\",\"Bb\"],\n",
    "]\n",
    "chord_progression_midi = [\n",
    "    list_pitch_name_to_num(chord, default_bias = 48, ordered = True) for chord in chord_progression\n",
    "]\n",
    "\n",
    "root_list, symb_list, bass_list = get_root_symb_bass_from_progression(chord_progression_midi)\n",
    "print(root_list, symb_list, bass_list)\n",
    "function_key_tuples_list = get_binary_progression_key_guesses(root_list, symb_list)\n",
    "# print(function_key_tuples_list)\n",
    "# function_key_tuples_list = rectify_key_list_with_ternery_transitions(function_key_tuples_list, root_list, symb_list)\n",
    "# print(function_key_tuples_list)\n",
    "# function_key_tuples_list = rectify_key_list_with_repeatition_rewrite(function_key_tuples_list)\n",
    "# print(function_key_tuples_list)\n",
    "# function_key_tuples_list =  align_chord_with_detected_keys(function_key_tuples_list, root_list, symb_list)\n",
    "# print(function_key_tuples_list)\n",
    "\n",
    "function_key_tuples = find_key_given_chord_track(chord_progression_midi)\n",
    "# print(function_key_tuples)\n",
    "func_key_strings = function_key_tuples_to_string_tuples(function_key_tuples, root_list, symb_list)\n",
    "\n",
    "to_print = list(zip(chord_progression,func_key_strings))\n",
    "for element in to_print:\n",
    "    print(element)\n",
    "    \n",
    "for i in range(len(chord_progression)):\n",
    "    chord_notes = chord_progression_midi[i]\n",
    "    chord_type = symb_list[i]\n",
    "    chord_root = root_list[i]\n",
    "    chord_root_name = PITCH_NUM_2_NAME[chord_root%12]\n",
    "    key = function_key_tuples[i][1]\n",
    "    extended = extend_chord(chord_type, chord_root, key)[0]\n",
    "    voicing = CHORD_2_VOICING[extended]\n",
    "    voicing = [chord_root+voicing_bias for voicing_bias in voicing]\n",
    "    if i%2 == 0:\n",
    "        voicing = invert_no_chrma24(voicing, time_inversion = 2)\n",
    "    resulting_chord_notes = [chord_root] + voicing\n",
    "    resulting_chord = [PITCH_NUM_2_NAME[note%12] for note in resulting_chord_notes]\n",
    "    print(chord_root_name, extended, resulting_chord)"
   ]
  },
  {
   "cell_type": "code",
   "execution_count": 18,
   "id": "faffdb63-a50f-49fa-a9f8-b89e4eeb39b7",
   "metadata": {},
   "outputs": [
    {
     "name": "stdout",
     "output_type": "stream",
     "text": [
      "[50, 55, 48, 53, 59, 52, 57, 57] ['minor-seventh', 'dominant-seventh', 'major-seventh', 'major-seventh', 'half-diminished-seventh', 'dominant-seventh-#5', 'minor-major-seventh', 'minor-sixth'] [None, None, None, None, None, None, None, None]\n",
      "(['D', 'F', 'A', 'C'], ('subdominant', 'C-Major'))\n",
      "(['G', 'B', 'D', 'F'], ('dominant', 'C-Major'))\n",
      "(['C', 'E', 'G', 'B'], ('tonic', 'C-Major'))\n",
      "(['F', 'A', 'C', 'E'], ('subdominant', 'C-Major'))\n",
      "(['B', 'D', 'F', 'A'], ('dominant', 'C-Major'))\n",
      "(['E', 'G#', 'C', 'D'], ('dominant', 'a-minor'))\n",
      "(['A', 'C', 'E', 'G#'], ('tonic', 'a-minor'))\n",
      "(['A', 'C', 'E', 'F#'], ('tonic', 'a-minor'))\n",
      "D minor-ninth ['D', 'C', 'E', 'F', 'A']\n",
      "G dominant-13th ['G', 'B', 'E', 'F', 'A']\n",
      "C major-sixth-ninth ['C', 'A', 'D', 'E', 'G']\n",
      "F major-ninth ['F', 'A', 'C', 'E', 'G']\n",
      "B half-diminished-seventh ['B', 'A', 'D', 'F']\n",
      "E dominant-seventh-#5 ['E', 'Ab', 'C', 'D', 'E']\n",
      "A minor-major-seventh ['A', 'Ab', 'C', 'E']\n",
      "A minor-sixth ['A', 'C', 'E', 'Gb', 'A']\n"
     ]
    }
   ],
   "source": [
    "chord_progression = [\n",
    "    [\"D\",\"F\",\"A\",\"C\"],\n",
    "    [\"G\",\"B\",\"D\",\"F\"],\n",
    "    [\"C\",\"E\",\"G\",\"B\"],\n",
    "    [\"F\",\"A\",\"C\",\"E\"],\n",
    "    [\"B\",\"D\",\"F\",\"A\"],\n",
    "    [\"E\",\"G#\",\"C\",\"D\"],\n",
    "    [\"A\",\"C\",\"E\",\"G#\"],\n",
    "    [\"A\",\"C\",\"E\",\"F#\"],\n",
    "]\n",
    "chord_progression_midi = [\n",
    "    list_pitch_name_to_num(chord, default_bias = 48, ordered = True) for chord in chord_progression\n",
    "]\n",
    "\n",
    "root_list, symb_list, bass_list = get_root_symb_bass_from_progression(chord_progression_midi)\n",
    "print(root_list, symb_list, bass_list)\n",
    "function_key_tuples_list = get_binary_progression_key_guesses(root_list, symb_list)\n",
    "function_key_tuples = find_key_given_chord_track(chord_progression_midi)\n",
    "# print(function_key_tuples)\n",
    "func_key_strings = function_key_tuples_to_string_tuples(function_key_tuples, root_list, symb_list)\n",
    "\n",
    "to_print = list(zip(chord_progression,func_key_strings))\n",
    "for element in to_print:\n",
    "    print(element)\n",
    "    \n",
    "for i in range(len(chord_progression)):\n",
    "    chord_notes = chord_progression_midi[i]\n",
    "    chord_type = symb_list[i]\n",
    "    chord_root = root_list[i]\n",
    "    chord_root_name = PITCH_NUM_2_NAME[chord_root%12]\n",
    "    key = function_key_tuples[i][1]\n",
    "    extended = extend_chord(chord_type, chord_root, key)[0]\n",
    "    voicing = CHORD_2_VOICING[extended]\n",
    "    voicing = [chord_root+voicing_bias for voicing_bias in voicing]\n",
    "    if i%2 == 0:\n",
    "        voicing = invert_no_chrma24(voicing, time_inversion = 2)\n",
    "    resulting_chord_notes = [chord_root] + voicing\n",
    "    resulting_chord = [PITCH_NUM_2_NAME[note%12] for note in resulting_chord_notes]\n",
    "    print(chord_root_name, extended, resulting_chord)"
   ]
  },
  {
   "cell_type": "code",
   "execution_count": 19,
   "id": "75124ec4-aa91-4acf-aa16-008f562f765f",
   "metadata": {},
   "outputs": [
    {
     "name": "stdout",
     "output_type": "stream",
     "text": [
      "[50, 55, 57, 50, 52, 57, 50, 55, 57, 55, 57, 50, 55, 50, 55, 50, 55, 50, 52, 57, 55, 50, 55, 50, 55, 50, 52, 57, 57, 50] ['major', 'major', 'major', 'major', 'minor', 'major', 'major', 'major', 'major', 'major', 'major', 'major', 'major', 'major', 'major', 'major', 'major', 'major', 'major', 'major', 'major', 'major', 'major', 'major', 'major', 'major', 'minor', 'major', 'major', 'major'] [None, None, None, None, None, None, None, None, None, None, None, None, None, None, None, None, None, None, None, None, None, None, None, None, None, None, None, None, None, None]\n",
      "[[(3, 7), (2, 2), (8, 0), (8, -12)], [(4, 2), (6, 7)], [(3, 2), (2, 9), (8, 7), (8, -5)], [(2, 2)], [(4, 2), (7, 7)], [(3, 2), (2, 9), (8, 7), (8, -5)], [(3, 7), (2, 2), (8, 0), (8, -12)], [(4, 2), (6, 7)], [], [(4, 2), (6, 7)], [(3, 2), (2, 9), (8, 7), (8, -5)], [(3, 7), (2, 2), (8, 0), (8, -12)], [(2, 2), (1, 7)], [(3, 7), (2, 2), (8, 0), (8, -12)], [(2, 2), (1, 7)], [(3, 7), (2, 2), (8, 0), (8, -12)], [(2, 2), (1, 7)], [(4, 9), (6, 2)], [(3, 9), (2, 4), (8, 2), (8, -10)], [], [(2, 2), (1, 7)], [(3, 7), (2, 2), (8, 0), (8, -12)], [(2, 2), (1, 7)], [(3, 7), (2, 2), (8, 0), (8, -12)], [(2, 2), (1, 7)], [(2, 2)], [(4, 2), (7, 7)], [(0, 'UNK')], [(3, 2), (2, 9), (8, 7), (8, -5)], [(0, 'UNK')]]\n",
      "[[(2, 2)], [(4, 2)], [(10, 2)], [(10, 2)], [(10, 2)], [(10, 2)], [(10, 2)], [(10, 2)], [(10, 2)], [(10, 2)], [(10, 2)], [(10, 2)], [(10, 2)], [(10, 2)], [(10, 2)], [(10, 2)], [(10, 2)], [(10, 2)], [(10, 2)], [(10, 2)], [(10, 2)], [(10, 2)], [(10, 2)], [(10, 2)], [(10, 2)], [(10, 2)], [(10, 2)], [(10, 2)], [(10, 2)], [(0, 'UNK')]]\n",
      "[[(2, 2)], [(4, 2)], [(10, 2)], [(10, 2)], [(10, 2)], [(10, 2)], [(10, 2)], [(10, 2)], [(10, 2)], [(10, 2)], [(10, 2)], [(10, 2)], [(10, 2)], [(10, 2)], [(10, 2)], [(10, 2)], [(10, 2)], [(10, 2)], [(10, 2)], [(10, 2)], [(10, 2)], [(10, 2)], [(10, 2)], [(10, 2)], [(10, 2)], [(10, 2)], [(10, 2)], [(10, 2)], [(10, 2)], [(0, 'UNK')]]\n",
      "[[(2, 2)], [(4, 2)], [(10, 2)], [(10, 2)], [(10, 2)], [(10, 2)], [(10, 2)], [(10, 2)], [(10, 2)], [(10, 2)], [(10, 2)], [(10, 2)], [(10, 2)], [(10, 2)], [(10, 2)], [(10, 2)], [(10, 2)], [(10, 2)], [(10, 2)], [(10, 2)], [(10, 2)], [(10, 2)], [(10, 2)], [(10, 2)], [(10, 2)], [(10, 2)], [(10, 2)], [(10, 2)], [(10, 2)], [(0, 2)]]\n",
      "[(2, 2), (10, 2), (10, 2), (10, 2), (10, 2), (10, 2), (10, 2), (10, 2), (10, 2), (10, 2), (10, 2), (10, 2), (10, 2), (10, 2), (10, 2), (10, 2), (10, 2), (10, 2), (10, 2), (10, 2), (10, 2), (10, 2), (10, 2), (10, 2), (10, 2), (10, 2), (10, 2), (10, 2), (10, 2), (0, 2)]\n"
     ]
    },
    {
     "data": {
      "text/plain": [
       "[('tonic', 'D-Major'),\n",
       " ('subdominant', 'D-Major'),\n",
       " ('dominant', 'D-Major'),\n",
       " ('tonic', 'D-Major'),\n",
       " ('subdominant', 'D-Major'),\n",
       " ('dominant', 'D-Major'),\n",
       " ('tonic', 'D-Major'),\n",
       " ('subdominant', 'D-Major'),\n",
       " ('dominant', 'D-Major'),\n",
       " ('subdominant', 'D-Major'),\n",
       " ('dominant', 'D-Major'),\n",
       " ('tonic', 'D-Major'),\n",
       " ('subdominant', 'D-Major'),\n",
       " ('tonic', 'D-Major'),\n",
       " ('subdominant', 'D-Major'),\n",
       " ('tonic', 'D-Major'),\n",
       " ('subdominant', 'D-Major'),\n",
       " ('tonic', 'D-Major'),\n",
       " ('double-dominant', 'D-Major'),\n",
       " ('dominant', 'D-Major'),\n",
       " ('subdominant', 'D-Major'),\n",
       " ('tonic', 'D-Major'),\n",
       " ('subdominant', 'D-Major'),\n",
       " ('tonic', 'D-Major'),\n",
       " ('subdominant', 'D-Major'),\n",
       " ('tonic', 'D-Major'),\n",
       " ('subdominant', 'D-Major'),\n",
       " ('dominant', 'D-Major'),\n",
       " ('dominant', 'D-Major'),\n",
       " ('tonic', 'D-Major')]"
      ]
     },
     "execution_count": 19,
     "metadata": {},
     "output_type": "execute_result"
    }
   ],
   "source": [
    "chord_progression = [\n",
    "    [\"D\",\"F#\",\"A\"],\n",
    "    [\"G\",\"B\",\"D\"],\n",
    "    [\"A\",\"C#\",\"E\"],\n",
    "    \n",
    "    [\"D\",\"F#\",\"A\"],\n",
    "    [\"E\",\"G\",\"B\"],\n",
    "    [\"A\",\"C#\",\"E\"],\n",
    "    \n",
    "    [\"D\",\"F#\",\"A\"],\n",
    "    [\"G\",\"B\",\"D\"],\n",
    "    [\"A\",\"C#\",\"E\"],\n",
    "    \n",
    "    [\"G\",\"B\",\"D\"],\n",
    "    [\"A\",\"C#\",\"E\"],\n",
    "    [\"D\",\"F#\",\"A\"],\n",
    "    \n",
    "    [\"G\",\"B\",\"D\"],\n",
    "    [\"D\",\"F#\",\"A\"],\n",
    "    [\"G\",\"B\",\"D\"],\n",
    "    [\"D\",\"F#\",\"A\"],\n",
    "    \n",
    "    [\"G\",\"B\",\"D\"],\n",
    "    [\"D\",\"F#\",\"A\"],\n",
    "    [\"E\",\"G#\",\"B\"],\n",
    "    [\"A\",\"C#\",\"E\"],\n",
    "    \n",
    "    [\"G\",\"B\",\"D\"],\n",
    "    [\"D\",\"F#\",\"A\"],\n",
    "    [\"G\",\"B\",\"D\"],\n",
    "    [\"D\",\"F#\",\"A\"],\n",
    "    \n",
    "    [\"G\",\"B\",\"D\"],\n",
    "    [\"D\",\"F#\",\"A\"],\n",
    "    [\"E\",\"G\",\"B\"],\n",
    "    [\"A\",\"C#\",\"E\"],\n",
    "    \n",
    "    [\"A\",\"C#\",\"E\"],\n",
    "    [\"D\",\"F#\",\"A\"],\n",
    "]\n",
    "\n",
    "\n",
    "\n",
    "chord_progression = [\n",
    "    list_pitch_name_to_num(chord, default_bias = 48, ordered = True) for chord in chord_progression\n",
    "]\n",
    "root_list, symb_list, bass_list = get_root_symb_bass_from_progression(chord_progression)\n",
    "print(root_list, symb_list, bass_list)\n",
    "function_key_tuples_list = get_binary_progression_key_guesses(root_list, symb_list)\n",
    "print(function_key_tuples_list)\n",
    "function_key_tuples_list = rectify_key_list_with_ternery_transitions(function_key_tuples_list, root_list, symb_list)\n",
    "print(function_key_tuples_list)\n",
    "function_key_tuples_list = rectify_key_list_with_repeatition_rewrite(function_key_tuples_list)\n",
    "print(function_key_tuples_list)\n",
    "function_key_tuples_list =  align_chord_with_detected_keys(function_key_tuples_list, root_list, symb_list)\n",
    "print(function_key_tuples_list)\n",
    "\n",
    "function_key_tuples = find_key_given_chord_track(chord_progression)\n",
    "print(function_key_tuples)\n",
    "function_key_tuples_to_string_tuples(function_key_tuples, root_list, symb_list)"
   ]
  },
  {
   "cell_type": "code",
   "execution_count": 20,
   "id": "91191429-6d78-49bf-9985-c8fe98a6c29f",
   "metadata": {},
   "outputs": [
    {
     "name": "stdout",
     "output_type": "stream",
     "text": [
      "[(2, 2), (10, 2), (10, 2), (10, 2), (10, 2), (10, 2), (10, 2), (10, 2), (10, 2), (10, 2), (10, 2), (10, 2), (10, 2), (10, 2), (10, 2), (10, 2), (10, 2), (10, 2), (10, 2), (10, 2), (10, 2), (10, 2), (10, 2), (10, 2), (10, 2), (10, 2), (10, 2), (10, 2), (10, 2), (0, 2)]\n"
     ]
    },
    {
     "data": {
      "text/plain": [
       "[('tonic', 'D-Major'),\n",
       " ('subdominant', 'D-Major'),\n",
       " ('dominant', 'D-Major'),\n",
       " ('tonic', 'D-Major'),\n",
       " ('subdominant', 'D-Major'),\n",
       " ('dominant', 'D-Major'),\n",
       " ('tonic', 'D-Major'),\n",
       " ('subdominant', 'D-Major'),\n",
       " ('dominant', 'D-Major'),\n",
       " ('subdominant', 'D-Major'),\n",
       " ('dominant', 'D-Major'),\n",
       " ('tonic', 'D-Major'),\n",
       " ('subdominant', 'D-Major'),\n",
       " ('tonic', 'D-Major'),\n",
       " ('subdominant', 'D-Major'),\n",
       " ('tonic', 'D-Major'),\n",
       " ('subdominant', 'D-Major'),\n",
       " ('tonic', 'D-Major'),\n",
       " ('double-dominant', 'D-Major'),\n",
       " ('dominant', 'D-Major'),\n",
       " ('subdominant', 'D-Major'),\n",
       " ('tonic', 'D-Major'),\n",
       " ('subdominant', 'D-Major'),\n",
       " ('tonic', 'D-Major'),\n",
       " ('subdominant', 'D-Major'),\n",
       " ('tonic', 'D-Major'),\n",
       " ('subdominant', 'D-Major'),\n",
       " ('dominant', 'D-Major'),\n",
       " ('dominant', 'D-Major'),\n",
       " ('tonic', 'D-Major')]"
      ]
     },
     "execution_count": 20,
     "metadata": {},
     "output_type": "execute_result"
    }
   ],
   "source": [
    "chord_progression = [\n",
    "    [\"D\",\"F#\",\"A\"],\n",
    "    [\"G\",\"B\",\"D\"],\n",
    "    [\"A\",\"C#\",\"E\"],\n",
    "    \n",
    "    [\"D\",\"F#\",\"A\"],\n",
    "    [\"E\",\"G\",\"B\"],\n",
    "    [\"A\",\"C#\",\"E\"],\n",
    "    \n",
    "    [\"D\",\"F#\",\"A\"],\n",
    "    [\"G\",\"B\",\"D\"],\n",
    "    [\"A\",\"C#\",\"E\"],\n",
    "    \n",
    "    [\"G\",\"B\",\"D\"],\n",
    "    [\"A\",\"C#\",\"E\"],\n",
    "    [\"D\",\"F#\",\"A\"],\n",
    "    \n",
    "    [\"G\",\"B\",\"D\"],\n",
    "    [\"D\",\"F#\",\"A\"],\n",
    "    [\"G\",\"B\",\"D\"],\n",
    "    [\"D\",\"F#\",\"A\"],\n",
    "    \n",
    "    [\"G\",\"B\",\"D\"],\n",
    "    [\"D\",\"F#\",\"A\"],\n",
    "    [\"E\",\"G#\",\"B\"],\n",
    "    [\"A\",\"C#\",\"E\"],\n",
    "    \n",
    "    [\"G\",\"B\",\"D\"],\n",
    "    [\"D\",\"F#\",\"A\"],\n",
    "    [\"G\",\"B\",\"D\"],\n",
    "    [\"D\",\"F#\",\"A\"],\n",
    "    \n",
    "    ['G', 'B', 'D'],\n",
    "    ['D', 'Gb', 'A'],\n",
    "    ['E', 'Ab', 'B'],\n",
    "    ['A', 'Db', 'E'],\n",
    "    \n",
    "    ['A', 'Db', 'E'],\n",
    "    ['D', 'Gb', 'A'],\n",
    "]\n",
    "chord_progression = [\n",
    "    list_pitch_name_to_num(chord, default_bias = 48, ordered = True) for chord in chord_progression\n",
    "]\n",
    "function_key_tuples = find_key_given_chord_track(chord_progression)\n",
    "print(function_key_tuples)\n",
    "function_key_tuples_to_string_tuples(function_key_tuples, root_list, symb_list)"
   ]
  },
  {
   "cell_type": "code",
   "execution_count": null,
   "id": "f2002c81-6478-4264-b7e8-8299ac6cb654",
   "metadata": {},
   "outputs": [],
   "source": []
  }
 ],
 "metadata": {
  "kernelspec": {
   "display_name": "Python 3 (ipykernel)",
   "language": "python",
   "name": "python3"
  },
  "language_info": {
   "codemirror_mode": {
    "name": "ipython",
    "version": 3
   },
   "file_extension": ".py",
   "mimetype": "text/x-python",
   "name": "python",
   "nbconvert_exporter": "python",
   "pygments_lexer": "ipython3",
   "version": "3.8.8"
  }
 },
 "nbformat": 4,
 "nbformat_minor": 5
}
