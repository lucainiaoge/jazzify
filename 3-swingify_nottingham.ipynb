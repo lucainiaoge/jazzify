{
 "cells": [
  {
   "cell_type": "code",
   "execution_count": 1,
   "id": "78aa7f78-95d3-453e-8a2d-582d54bee9fc",
   "metadata": {},
   "outputs": [],
   "source": [
    "import os\n",
    "import numpy as np\n",
    "\n",
    "from data.data_utils import note_chord_to_midi, note_chord_to_json\n",
    "from data import NottinghamDataset\n",
    "from jazzify import Jazzifier, Swingifier, Bossaifier"
   ]
  },
  {
   "cell_type": "code",
   "execution_count": 2,
   "id": "0dfe4638-98eb-4611-8f5c-a926fbbe5b9f",
   "metadata": {},
   "outputs": [
    {
     "name": "stdout",
     "output_type": "stream",
     "text": [
      "finished loading dataset, total number: 1168\n"
     ]
    }
   ],
   "source": [
    "dataset = NottinghamDataset(aug=False)\n",
    "dataset_length = dataset.__len__()\n",
    "g_data_perm = np.arange(dataset_length)\n",
    "g_data_counter = 0"
   ]
  },
  {
   "cell_type": "code",
   "execution_count": 3,
   "id": "a517324a-9ae1-4951-9c6a-6686b640e0c2",
   "metadata": {
    "tags": []
   },
   "outputs": [],
   "source": [
    "out_dir_swing = \"data/nottingham_swingified/\"\n",
    "out_dir_bossa = \"data/nottingham_bossaified/\"\n",
    "while g_data_counter < dataset_length:\n",
    "    piece = dataset.__getitem__(g_data_perm[g_data_counter])\n",
    "    name = piece.name[:-5] + \"_\" + piece.title\n",
    "    note_chord_to_midi(\n",
    "        piece.notes, piece.chords, piece.time_signatures, out_path=os.path.join(out_dir_swing, name+\".mid\"), resolution=24\n",
    "    )\n",
    "    swingifier = Swingifier(piece, bass_max = 52, bass_min = 24, voicing_min = 38, voicing_max = 64, p_remove_note = 0.1, max_voicing_jump = 6, verbose = False)\n",
    "    swingifier.output_swingified_result(out_dir_swing)\n",
    "    \n",
    "    if piece.time_signatures[0].numerator == 4 and piece.time_signatures[0].denominator == 4:\n",
    "        note_chord_to_midi(\n",
    "            piece.notes, piece.chords, piece.time_signatures, out_path=os.path.join(out_dir_bossa, name+\".mid\"), resolution=24\n",
    "        )\n",
    "        bossaifier = Bossaifier(piece, bass_max = 52, bass_min = 24, voicing_min = 38, voicing_max = 64, p_remove_note = 0.1, max_voicing_jump = 6, verbose = False)\n",
    "        bossaifier.output_bossaified_result(out_dir_bossa)\n",
    "        \n",
    "    g_data_counter += 1\n"
   ]
  }
 ],
 "metadata": {
  "kernelspec": {
   "display_name": "Python 3 (ipykernel)",
   "language": "python",
   "name": "python3"
  },
  "language_info": {
   "codemirror_mode": {
    "name": "ipython",
    "version": 3
   },
   "file_extension": ".py",
   "mimetype": "text/x-python",
   "name": "python",
   "nbconvert_exporter": "python",
   "pygments_lexer": "ipython3",
   "version": "3.8.8"
  }
 },
 "nbformat": 4,
 "nbformat_minor": 5
}
